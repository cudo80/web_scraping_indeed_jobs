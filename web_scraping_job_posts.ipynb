{
 "cells": [
  {
   "cell_type": "code",
   "execution_count": 235,
   "id": "3c85631f",
   "metadata": {},
   "outputs": [],
   "source": [
    "import csv\n",
    "from datetime import datetime\n",
    "import requests\n",
    "from bs4 import BeautifulSoup"
   ]
  },
  {
   "cell_type": "code",
   "execution_count": 236,
   "id": "3ec5e149",
   "metadata": {},
   "outputs": [],
   "source": [
    "def get_url(vaga, local):\n",
    "    \"\"\"Gera uma url da vaga e local\"\"\"\n",
    "    template = 'https://br.indeed.com/jobs?q={}&l={}'\n",
    "    url = template.format(vaga, local)\n",
    "    return url"
   ]
  },
  {
   "cell_type": "code",
   "execution_count": 237,
   "id": "92c6cf74",
   "metadata": {},
   "outputs": [],
   "source": [
    "url = get_url('python', 'Florianópolis SC')"
   ]
  },
  {
   "cell_type": "markdown",
   "id": "51602570",
   "metadata": {},
   "source": [
    "## Extrair HTML"
   ]
  },
  {
   "cell_type": "code",
   "execution_count": 238,
   "id": "6d806970",
   "metadata": {},
   "outputs": [],
   "source": [
    "response = requests.get(url)"
   ]
  },
  {
   "cell_type": "code",
   "execution_count": 239,
   "id": "7cd87b3a",
   "metadata": {},
   "outputs": [
    {
     "data": {
      "text/plain": [
       "<Response [200]>"
      ]
     },
     "execution_count": 239,
     "metadata": {},
     "output_type": "execute_result"
    }
   ],
   "source": [
    "response"
   ]
  },
  {
   "cell_type": "code",
   "execution_count": 240,
   "id": "0b25f680",
   "metadata": {},
   "outputs": [
    {
     "data": {
      "text/plain": [
       "''"
      ]
     },
     "execution_count": 240,
     "metadata": {},
     "output_type": "execute_result"
    }
   ],
   "source": [
    "response.reason"
   ]
  },
  {
   "cell_type": "code",
   "execution_count": 241,
   "id": "0d21f06f",
   "metadata": {},
   "outputs": [],
   "source": [
    "soup = BeautifulSoup(response.text, 'html.parser')"
   ]
  },
  {
   "cell_type": "code",
   "execution_count": 242,
   "id": "abc7ef50",
   "metadata": {},
   "outputs": [],
   "source": [
    "cards = soup.findAll('div', class_=\"job_seen_beacon\")"
   ]
  },
  {
   "cell_type": "code",
   "execution_count": 243,
   "id": "af528048",
   "metadata": {},
   "outputs": [
    {
     "data": {
      "text/plain": [
       "15"
      ]
     },
     "execution_count": 243,
     "metadata": {},
     "output_type": "execute_result"
    }
   ],
   "source": [
    "len(cards)"
   ]
  },
  {
   "cell_type": "markdown",
   "id": "239f09c2",
   "metadata": {},
   "source": [
    "## Prototipar modelo com um único registro"
   ]
  },
  {
   "cell_type": "code",
   "execution_count": 244,
   "id": "4cf4dd70",
   "metadata": {},
   "outputs": [],
   "source": [
    "card = cards[0]"
   ]
  },
  {
   "cell_type": "code",
   "execution_count": 245,
   "id": "86a93ab6",
   "metadata": {},
   "outputs": [],
   "source": [
    "atag = card.find('h2').find('span')"
   ]
  },
  {
   "cell_type": "code",
   "execution_count": 246,
   "id": "bf4437b1",
   "metadata": {},
   "outputs": [],
   "source": [
    "job_title = atag.get('title')"
   ]
  },
  {
   "cell_type": "code",
   "execution_count": 247,
   "id": "bce521c5",
   "metadata": {},
   "outputs": [],
   "source": [
    "company = card.find('span', 'companyName').text"
   ]
  },
  {
   "cell_type": "code",
   "execution_count": 248,
   "id": "fdf677c3",
   "metadata": {},
   "outputs": [],
   "source": [
    "location_list = card.find('div', 'companyLocation').text.replace('•', ' ').split()"
   ]
  },
  {
   "cell_type": "code",
   "execution_count": 249,
   "id": "00a98147",
   "metadata": {},
   "outputs": [],
   "source": [
    "job_location = str(location_list[0] + ' ' + location_list[1])"
   ]
  },
  {
   "cell_type": "code",
   "execution_count": 250,
   "id": "99f5d9e9",
   "metadata": {},
   "outputs": [],
   "source": [
    "job_summary = card.find('div', \"job-snippet\").text.strip()"
   ]
  },
  {
   "cell_type": "code",
   "execution_count": 251,
   "id": "5bcbd361",
   "metadata": {},
   "outputs": [],
   "source": [
    "post_date = card.find('span', 'date').text"
   ]
  },
  {
   "cell_type": "code",
   "execution_count": 252,
   "id": "8b47b16d",
   "metadata": {},
   "outputs": [],
   "source": [
    "today = datetime.today().strftime('%d-%m-%Y')"
   ]
  },
  {
   "cell_type": "code",
   "execution_count": 253,
   "id": "699a7fae",
   "metadata": {},
   "outputs": [],
   "source": [
    "try:\n",
    "    job_salary = card.find('div', 'salary-snippet').text.strip()\n",
    "except AttributeError:\n",
    "    job_salary = ''"
   ]
  },
  {
   "cell_type": "markdown",
   "id": "9c988d43",
   "metadata": {},
   "source": [
    "## Generalizando o modelo em uma função"
   ]
  },
  {
   "cell_type": "code",
   "execution_count": 205,
   "id": "ac0c3cf5",
   "metadata": {},
   "outputs": [],
   "source": [
    "def get_record(card):\n",
    "    \"\"\"Extract job data from a single record\"\"\"\n",
    "    atag = card.find('h2').find('span')\n",
    "    job_title = atag.get('title')\n",
    "    company = card.find('span', 'companyName').text\n",
    "    location_list = card.find('div', 'companyLocation').text.replace('•', ' ').split()\n",
    "    job_location = str(location_list[0] + ' ' + location_list[1])\n",
    "    job_summary = card.find('div', \"job-snippet\").text.strip()\n",
    "    post_date = card.find('span', 'date').text.strip()\n",
    "    today = datetime.today().strftime('%d-%m-%Y')\n",
    "    try:\n",
    "        job_salary = card.find('div', 'salary-snippet').text.strip()\n",
    "    except AttributeError:\n",
    "        job_salary = ''\n",
    "        \n",
    "    record = (job_title, company, job_location, job_summary, post_date, today, job_salary)\n",
    "    \n",
    "    return record"
   ]
  },
  {
   "cell_type": "code",
   "execution_count": 230,
   "id": "0726d2a7",
   "metadata": {},
   "outputs": [],
   "source": [
    "records = []\n",
    "\n",
    "for card in cards:\n",
    "    record = get_record(card)\n",
    "    records.append(record)"
   ]
  },
  {
   "cell_type": "code",
   "execution_count": 208,
   "id": "2a2e0d36",
   "metadata": {},
   "outputs": [
    {
     "data": {
      "text/plain": [
       "('Estágio Desenvolvimento de Software',\n",
       " 'GnTech',\n",
       " 'Florianópolis, SC',\n",
       " 'Desenvolvimento de software utilizando Python, Django, MongoDB, PostgreSQL, AWS, Azure, API Rest, entre outros.',\n",
       " 'há 30+ dias',\n",
       " '16-11-2021',\n",
       " '')"
      ]
     },
     "execution_count": 208,
     "metadata": {},
     "output_type": "execute_result"
    }
   ],
   "source": [
    "records[8]"
   ]
  },
  {
   "cell_type": "markdown",
   "id": "94130356",
   "metadata": {},
   "source": [
    "## Acessando as próximas páginas"
   ]
  },
  {
   "cell_type": "code",
   "execution_count": 231,
   "id": "77ea8495",
   "metadata": {},
   "outputs": [
    {
     "ename": "AttributeError",
     "evalue": "'NoneType' object has no attribute 'text'",
     "output_type": "error",
     "traceback": [
      "\u001b[0;31m---------------------------------------------------------------------------\u001b[0m",
      "\u001b[0;31mAttributeError\u001b[0m                            Traceback (most recent call last)",
      "\u001b[0;32m<ipython-input-231-93121a6ea050>\u001b[0m in \u001b[0;36m<module>\u001b[0;34m\u001b[0m\n\u001b[1;32m     10\u001b[0m \u001b[0;34m\u001b[0m\u001b[0m\n\u001b[1;32m     11\u001b[0m     \u001b[0;32mfor\u001b[0m \u001b[0mcard\u001b[0m \u001b[0;32min\u001b[0m \u001b[0mcards\u001b[0m\u001b[0;34m:\u001b[0m\u001b[0;34m\u001b[0m\u001b[0;34m\u001b[0m\u001b[0m\n\u001b[0;32m---> 12\u001b[0;31m         \u001b[0mrecord\u001b[0m \u001b[0;34m=\u001b[0m \u001b[0mget_record\u001b[0m\u001b[0;34m(\u001b[0m\u001b[0mcard\u001b[0m\u001b[0;34m)\u001b[0m\u001b[0;34m\u001b[0m\u001b[0;34m\u001b[0m\u001b[0m\n\u001b[0m\u001b[1;32m     13\u001b[0m         \u001b[0mrecords\u001b[0m\u001b[0;34m.\u001b[0m\u001b[0mappend\u001b[0m\u001b[0;34m(\u001b[0m\u001b[0mrecord\u001b[0m\u001b[0;34m)\u001b[0m\u001b[0;34m\u001b[0m\u001b[0;34m\u001b[0m\u001b[0m\n",
      "\u001b[0;32m<ipython-input-212-e440f85c0a75>\u001b[0m in \u001b[0;36mget_record\u001b[0;34m(card)\u001b[0m\n\u001b[1;32m     14\u001b[0m     \u001b[0matag\u001b[0m \u001b[0;34m=\u001b[0m \u001b[0mcard\u001b[0m\u001b[0;34m.\u001b[0m\u001b[0mfind\u001b[0m\u001b[0;34m(\u001b[0m\u001b[0;34m'h2'\u001b[0m\u001b[0;34m)\u001b[0m\u001b[0;34m.\u001b[0m\u001b[0mfind\u001b[0m\u001b[0;34m(\u001b[0m\u001b[0;34m'span'\u001b[0m\u001b[0;34m)\u001b[0m\u001b[0;34m\u001b[0m\u001b[0;34m\u001b[0m\u001b[0m\n\u001b[1;32m     15\u001b[0m     \u001b[0mjob_title\u001b[0m \u001b[0;34m=\u001b[0m \u001b[0matag\u001b[0m\u001b[0;34m.\u001b[0m\u001b[0mget\u001b[0m\u001b[0;34m(\u001b[0m\u001b[0;34m'title'\u001b[0m\u001b[0;34m)\u001b[0m\u001b[0;34m\u001b[0m\u001b[0;34m\u001b[0m\u001b[0m\n\u001b[0;32m---> 16\u001b[0;31m     \u001b[0mcompany\u001b[0m \u001b[0;34m=\u001b[0m \u001b[0mcard\u001b[0m\u001b[0;34m.\u001b[0m\u001b[0mfind\u001b[0m\u001b[0;34m(\u001b[0m\u001b[0;34m'span'\u001b[0m\u001b[0;34m,\u001b[0m \u001b[0;34m'companyName'\u001b[0m\u001b[0;34m)\u001b[0m\u001b[0;34m.\u001b[0m\u001b[0mtext\u001b[0m\u001b[0;34m\u001b[0m\u001b[0;34m\u001b[0m\u001b[0m\n\u001b[0m\u001b[1;32m     17\u001b[0m     \u001b[0mlocation_list\u001b[0m \u001b[0;34m=\u001b[0m \u001b[0mcard\u001b[0m\u001b[0;34m.\u001b[0m\u001b[0mfind\u001b[0m\u001b[0;34m(\u001b[0m\u001b[0;34m'div'\u001b[0m\u001b[0;34m,\u001b[0m \u001b[0;34m'companyLocation'\u001b[0m\u001b[0;34m)\u001b[0m\u001b[0;34m.\u001b[0m\u001b[0mtext\u001b[0m\u001b[0;34m.\u001b[0m\u001b[0mreplace\u001b[0m\u001b[0;34m(\u001b[0m\u001b[0;34m'•'\u001b[0m\u001b[0;34m,\u001b[0m \u001b[0;34m' '\u001b[0m\u001b[0;34m)\u001b[0m\u001b[0;34m.\u001b[0m\u001b[0msplit\u001b[0m\u001b[0;34m(\u001b[0m\u001b[0;34m)\u001b[0m\u001b[0;34m\u001b[0m\u001b[0;34m\u001b[0m\u001b[0m\n\u001b[1;32m     18\u001b[0m     \u001b[0mjob_location\u001b[0m \u001b[0;34m=\u001b[0m \u001b[0mstr\u001b[0m\u001b[0;34m(\u001b[0m\u001b[0mlocation_list\u001b[0m\u001b[0;34m[\u001b[0m\u001b[0;36m0\u001b[0m\u001b[0;34m]\u001b[0m \u001b[0;34m+\u001b[0m \u001b[0;34m' '\u001b[0m \u001b[0;34m+\u001b[0m \u001b[0mlocation_list\u001b[0m\u001b[0;34m[\u001b[0m\u001b[0;36m1\u001b[0m\u001b[0;34m]\u001b[0m\u001b[0;34m)\u001b[0m\u001b[0;34m\u001b[0m\u001b[0;34m\u001b[0m\u001b[0m\n",
      "\u001b[0;31mAttributeError\u001b[0m: 'NoneType' object has no attribute 'text'"
     ]
    }
   ],
   "source": [
    "while True:\n",
    "    try:\n",
    "        url = 'https://br.indeed.com' + soup.find('a', {\"aria-label\": \"Próxima\"}).get('href')\n",
    "    except AttributeError:\n",
    "        break\n",
    "    \n",
    "    response = requests.get(url)\n",
    "    soup = BeautifulSoup(response.text, 'html.parser')\n",
    "    cards = soup.findAll('div', class_=\"job_seen_beacon\")\n",
    "    \n",
    "    for card in cards:\n",
    "        record = get_record(card)\n",
    "        records.append(record)"
   ]
  },
  {
   "cell_type": "markdown",
   "id": "58439491",
   "metadata": {},
   "source": [
    "## Agregando tudo"
   ]
  },
  {
   "cell_type": "code",
   "execution_count": 260,
   "id": "f19ee7ec",
   "metadata": {},
   "outputs": [],
   "source": [
    "import csv\n",
    "from datetime import datetime\n",
    "import requests\n",
    "from bs4 import BeautifulSoup\n",
    "\n",
    "def get_url(vaga, local):\n",
    "    \"\"\"Gera uma url da vaga e local\"\"\"\n",
    "    template = 'https://br.indeed.com/jobs?q={}&l={}'\n",
    "    url = template.format(vaga, local)\n",
    "    return url\n",
    "\n",
    "def get_record(card):\n",
    "    \"\"\"Extract job data from a single record\"\"\"\n",
    "    atag = card.find('h2').find('span')\n",
    "    try:\n",
    "        job_title = atag.get('title')\n",
    "    except AttributeError:\n",
    "        job_title = ''    \n",
    "    try:\n",
    "        company = card.find('span', 'companyName').text\n",
    "    except AttributeError:\n",
    "        company = ''\n",
    "    try:\n",
    "        location_list = card.find('div', 'companyLocation').text.replace('•', ' ').split()\n",
    "    except AttributeError:\n",
    "        location_list = ''\n",
    "    try:\n",
    "        job_location = str(location_list[0] + ' ' + location_list[1])\n",
    "    except AttributeError:\n",
    "        job_location = ''\n",
    "    try:\n",
    "        job_summary = card.find('div', \"job-snippet\").text.strip()\n",
    "    except AttributeError:\n",
    "        job_summary = ''\n",
    "    try:\n",
    "        post_date = card.find('span', 'date').text.strip()\n",
    "    except AttributeError:\n",
    "        post_date = ''\n",
    "    try:\n",
    "        today = datetime.today().strftime('%d-%m-%Y')\n",
    "    except AttributeError:\n",
    "        today = ''\n",
    "    try:\n",
    "        job_salary = card.find('div', 'salary-snippet').text.strip()\n",
    "    except AttributeError:\n",
    "        job_salary = ''\n",
    "        \n",
    "    record = (job_title, company, job_location, job_summary, post_date, today, job_salary)\n",
    "    \n",
    "    return record\n",
    "\n",
    "def main(vaga, local):\n",
    "    \"\"\"Run the mains program routine\"\"\"\n",
    "    records = []\n",
    "    url = get_url(vaga, local)\n",
    "    \n",
    "    while True:\n",
    "        response = requests.get(url)\n",
    "        soup = BeautifulSoup(response.text, 'html.parser')\n",
    "        cards = soup.findAll('div', class_=\"job_seen_beacon\")\n",
    "    \n",
    "        for card in cards:\n",
    "            record = get_record(card)\n",
    "            records.append(record)\n",
    "            \n",
    "        try:\n",
    "            url = 'https://br.indeed.com' + soup.find('a', {\"aria-label\": \"Próxima\"}).get('href')\n",
    "        except AttributeError:\n",
    "            break\n",
    "            \n",
    "    # Save the data\n",
    "    with open('resultados.csv', 'w', newline='', encoding='utf-8') as f:\n",
    "        writer = csv.writer(f)\n",
    "        writer.writerow(['Vaga', 'Empresa', 'Local', 'DataAnuncio', 'DataColeta', 'SumarioVaga', 'Salario'])\n",
    "        writer.writerows(records)"
   ]
  },
  {
   "cell_type": "code",
   "execution_count": 261,
   "id": "95d046cf",
   "metadata": {},
   "outputs": [],
   "source": [
    "# run the main program\n",
    "main('python', 'Florianópolis, SC')"
   ]
  },
  {
   "cell_type": "code",
   "execution_count": null,
   "id": "bd803169",
   "metadata": {},
   "outputs": [],
   "source": []
  }
 ],
 "metadata": {
  "kernelspec": {
   "display_name": "Python 3",
   "language": "python",
   "name": "python3"
  },
  "language_info": {
   "codemirror_mode": {
    "name": "ipython",
    "version": 3
   },
   "file_extension": ".py",
   "mimetype": "text/x-python",
   "name": "python",
   "nbconvert_exporter": "python",
   "pygments_lexer": "ipython3",
   "version": "3.8.8"
  }
 },
 "nbformat": 4,
 "nbformat_minor": 5
}
